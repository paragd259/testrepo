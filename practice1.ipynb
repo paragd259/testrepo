{
  "metadata": {
    "kernelspec": {
      "name": "python",
      "display_name": "Pyolite",
      "language": "python"
    },
    "language_info": {
      "codemirror_mode": {
        "name": "python",
        "version": 3
      },
      "file_extension": ".py",
      "mimetype": "text/x-python",
      "name": "python",
      "nbconvert_exporter": "python",
      "pygments_lexer": "ipython3",
      "version": "3.8"
    }
  },
  "nbformat_minor": 4,
  "nbformat": 4,
  "cells": [
    {
      "cell_type": "markdown",
      "source": "<center>\n    <img src=\"https://s3-api.us-geo.objectstorage.softlayer.net/cf-courses-data/CognitiveClass/Logos/organization_logo/organization_logo.png\" width=\"300\" alt=\"cognitiveclass.ai logo\"  />\n</center>\n",
      "metadata": {}
    },
    {
      "cell_type": "markdown",
      "source": "#### Add your code below following the instructions given in the course\n",
      "metadata": {}
    },
    {
      "cell_type": "code",
      "source": "1,+1",
      "metadata": {
        "trusted": true
      },
      "execution_count": 1,
      "outputs": [
        {
          "execution_count": 1,
          "output_type": "execute_result",
          "data": {
            "text/plain": "(1, 1)"
          },
          "metadata": {}
        }
      ]
    },
    {
      "cell_type": "code",
      "source": "1+1\n",
      "metadata": {
        "trusted": true
      },
      "execution_count": 2,
      "outputs": [
        {
          "execution_count": 2,
          "output_type": "execute_result",
          "data": {
            "text/plain": "2"
          },
          "metadata": {}
        }
      ]
    },
    {
      "cell_type": "code",
      "source": "a=1\nb=6\na+b",
      "metadata": {
        "trusted": true
      },
      "execution_count": 3,
      "outputs": [
        {
          "execution_count": 3,
          "output_type": "execute_result",
          "data": {
            "text/plain": "7"
          },
          "metadata": {}
        }
      ]
    },
    {
      "cell_type": "code",
      "source": "67*100\n",
      "metadata": {
        "trusted": true
      },
      "execution_count": 4,
      "outputs": [
        {
          "execution_count": 4,
          "output_type": "execute_result",
          "data": {
            "text/plain": "6700"
          },
          "metadata": {}
        }
      ]
    },
    {
      "cell_type": "code",
      "source": "2/100\n",
      "metadata": {
        "trusted": true
      },
      "execution_count": 5,
      "outputs": [
        {
          "execution_count": 5,
          "output_type": "execute_result",
          "data": {
            "text/plain": "0.02"
          },
          "metadata": {}
        }
      ]
    },
    {
      "cell_type": "markdown",
      "source": "50+6-4",
      "metadata": {
        "tags": []
      }
    },
    {
      "cell_type": "code",
      "source": "my title\n",
      "metadata": {
        "trusted": true
      },
      "execution_count": 9,
      "outputs": [
        {
          "ename": "<class 'SyntaxError'>",
          "evalue": "invalid syntax (<ipython-input-9-b700469f0f40>, line 1)",
          "traceback": [
            "\u001b[0;36m  Input \u001b[0;32mIn [9]\u001b[0;36m\u001b[0m\n\u001b[0;31m    my title\u001b[0m\n\u001b[0m       ^\u001b[0m\n\u001b[0;31mSyntaxError\u001b[0m\u001b[0;31m:\u001b[0m invalid syntax\n"
          ],
          "output_type": "error"
        }
      ]
    },
    {
      "cell_type": "markdown",
      "source": "my titel",
      "metadata": {}
    },
    {
      "cell_type": "markdown",
      "source": "<a href=\"https://cognitiveclass.ai/\"> Cognitive Class</a>",
      "metadata": {}
    },
    {
      "cell_type": "code",
      "source": "# Header 1",
      "metadata": {
        "trusted": true
      },
      "execution_count": 10,
      "outputs": []
    },
    {
      "cell_type": "markdown",
      "source": "# H1\n## H2\n### H3\n#### H4\n##### H5\n###### H6",
      "metadata": {}
    },
    {
      "cell_type": "markdown",
      "source": "# H1\n## H2\n### H3\n#### H4\n\n\nAlternatively, for H1 and H2, an underlin-ish style:\n\nAlt-H1\n======\n\nAlt-H2\n------",
      "metadata": {}
    },
    {
      "cell_type": "markdown",
      "source": "Emphasis, aka italics, with *asterisks* or _underscores_.\n\nStrong emphasis, aka bold, with **asterisks** or __underscores__.\n\nCombined emphasis with **asterisks and _underscores_**.\n\nStrikethrough uses two tildes. ~~Scratch this.~~",
      "metadata": {}
    },
    {
      "cell_type": "markdown",
      "source": " *asterisks* ",
      "metadata": {}
    },
    {
      "cell_type": "markdown",
      "source": "~Strong emphasis~",
      "metadata": {}
    },
    {
      "cell_type": "markdown",
      "source": "~~Strong emphasis~~",
      "metadata": {}
    },
    {
      "cell_type": "markdown",
      "source": "** ~~Scratch this.~~**",
      "metadata": {}
    },
    {
      "cell_type": "markdown",
      "source": "1. First ordered list item\n2. Another item\n⋅⋅* Unordered sub-list. \n1. Actual numbers don't matter, just that it's a number\n⋅⋅1. Ordered sub-list\n4. And another item.\n\n⋅⋅⋅You can have properly indented paragraphs within list items. Notice the blank line above, and the leading spaces (at least one, but we'll use three here to also align the raw Markdown).\n\n⋅⋅⋅To have a line break without a paragraph, you will need to use two trailing spaces.⋅⋅\n⋅⋅⋅Note that this line is separate, but within the same paragraph.⋅⋅\n⋅⋅⋅(This is contrary to the typical GFM line break behaviour, where trailing spaces are not required.)\n\n* Unordered list can use asterisks\n- Or minuses\n+ Or pluses",
      "metadata": {}
    },
    {
      "cell_type": "markdown",
      "source": "[I'm an inline-style link](https://www.google.com)\n\n[I'm an inline-style link with title](https://www.google.com \"Google's Homepage\")\n\n[I'm a reference-style link][Arbitrary case-insensitive reference text]\n\n[I'm a relative reference to a repository file](../blob/master/LICENSE)\n\n[You can use numbers for reference-style link definitions][1]\n\nOr leave it empty and use the [link text itself].\n\nURLs and URLs in angle brackets will automatically get turned into links. \nhttp://www.example.com or <http://www.example.com> and sometimes \nexample.com (but not on Github, for example).\n\nSome text to show that the reference links can follow later.\n\n[arbitrary case-insensitive reference text]: https://www.mozilla.org\n[1]: http://slashdot.org\n[link text itself]: http://www.reddit.com",
      "metadata": {}
    },
    {
      "cell_type": "markdown",
      "source": "Here's our logo (hover to see the title text):\n\nInline-style: \n![alt text](https://github.com/adam-p/markdown-here/raw/master/src/common/images/icon48.png \"Logo Title Text 1\")\n\nReference-style: \n![alt text][logo]\n\n[logo]: https://github.com/adam-p/markdown-here/raw/master/src/common/images/icon48.png \"Logo Title Text 2\"",
      "metadata": {}
    },
    {
      "cell_type": "markdown",
      "source": "Inline `code` has `back-ticks around` it.",
      "metadata": {}
    },
    {
      "cell_type": "markdown",
      "source": "```javascript\nvar s = \"JavaScript syntax highlighting\";\nalert(s);\n```\n \n```python\ns = \"Python syntax highlighting\"\nprint s\n```\n \n```\nNo language indicated, so no syntax highlighting. \nBut let's throw in a <b>tag</b>.\n```",
      "metadata": {}
    },
    {
      "cell_type": "markdown",
      "source": "```javascript\n\"highlight\"",
      "metadata": {}
    },
    {
      "cell_type": "markdown",
      "source": "Here is a simple footnote[^1].",
      "metadata": {}
    },
    {
      "cell_type": "markdown",
      "source": "Here is a simple footnote[^1].\n\nA footnote can also have multiple lines[^2].  \n\nYou can also use words, to fit your writing style more closely[^note].\n\n[^1]: My reference.\n[^2]: Every new line should be prefixed with 2 spaces.  \n  This allows you to have a footnote with multiple lines.\n[^note]:\n    Named footnotes will still render with numbers instead of the text but allow easier identification and linking.  \n    This footnote also has been made with a different syntax using 4 spaces for new lines.",
      "metadata": {}
    },
    {
      "cell_type": "markdown",
      "source": "Colons can be used to align columns.\n\n| Tables        | Are           | Cool  |\n| ------------- |:-------------:| -----:|\n| col 3 is      | right-aligned | $1600 |\n| col 2 is      | centered      |   $12 |\n| zebra stripes | are neat      |    $1 |\n\nThere must be at least 3 dashes separating each header cell.\nThe outer pipes (|) are optional, and you don't need to make the \nraw Markdown line up prettily. You can also use inline Markdown.\n\nMarkdown | Less | Pretty\n--- | --- | ---\n*Still* | `renders` | **nicely**\n1 | 2 | 3",
      "metadata": {}
    },
    {
      "cell_type": "markdown",
      "source": "s no. | Name| Age\n---|---|---\n1 | Shubham | 22\n2 | Laxman | 20\n3 | Vikas | 21\n`4` |*Vallabh*|\"52\"",
      "metadata": {}
    },
    {
      "cell_type": "markdown",
      "source": "> Blockquotes are very handy in email to emulate reply text.\n> This line is part of the same quote.\n\nQuote break.\n\n> This is a very long line that will still be quoted properly when it wraps. Oh boy let's keep writing to make sure this is long enough to actually wrap for everyone. Oh, you can *put* **Markdown** into a blockquote. ",
      "metadata": {}
    },
    {
      "cell_type": "markdown",
      "source": "<dl>\n  <dt>Definition list</dt>\n  <dd>Is something people use sometimes.</dd>\n\n  <dt>Markdown in HTML</dt>\n  <dd>Does *not* work **very** well. Use HTML <em>tags</em>.</dd>\n</dl>",
      "metadata": {}
    },
    {
      "cell_type": "markdown",
      "source": "Three or more...\n\n---\n\nHyphens\n\n***\n\nAsterisks\n\n___\n\nUnderscores",
      "metadata": {}
    },
    {
      "cell_type": "markdown",
      "source": "Here's a line for us to start with.\n\nThis line is separated from the one above by two newlines, so it will be a *separate paragraph*.\n\nThis line is also a separate paragraph, but...\nThis line is only separated by a single newline, so it's a separate line in the *same paragraph*.",
      "metadata": {}
    },
    {
      "cell_type": "code",
      "source": "",
      "metadata": {},
      "execution_count": null,
      "outputs": []
    }
  ]
}